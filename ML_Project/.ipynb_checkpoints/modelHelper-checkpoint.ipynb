{
 "cells": [
  {
   "cell_type": "code",
   "execution_count": null,
   "metadata": {},
   "outputs": [],
   "source": [
    "import pandas as pd\n",
    "import datetime\n",
    "import time\n",
    "import pickle\n",
    "import numpy as np\n",
    "\n",
    "class ModelHelper():\n",
    "    def __init__(self):\n",
    "        pass\n",
    "\n",
    "    def makePredictions(self, deal_status, ebitda, revenue, ebitda_multiple, state):\n",
    "#         pclass_1 = 0\n",
    "#         pclass_2 = 0\n",
    "#         pclass_3 = 0\n",
    "\n",
    "#         embarked_c = 0\n",
    "#         embarked_q = 0\n",
    "#         embarked_s = 0\n",
    "\n",
    "#         # parse pclass\n",
    "#         if (pclass == 1):\n",
    "#             pclass_1 = 1\n",
    "#         elif (pclass == 2):\n",
    "#             pclass_2 = 1\n",
    "#         elif (pclass == 3):\n",
    "#             pclass_3 = 1\n",
    "#         else:\n",
    "#             pass\n",
    "\n",
    "#         # parse embarked\n",
    "#         if (embarked == \"C\"):\n",
    "#             embarked_c = 1\n",
    "#         elif (embarked == \"Q\"):\n",
    "#             embarked_q = 1\n",
    "#         elif (embarked == \"S\"):\n",
    "#             embarked_s = 1\n",
    "#         else:\n",
    "#             pass\n",
    "\n",
    "        input_pred = [[deal_status, ebitda, revenue, ebitda_multiple, state]]\n",
    "\n",
    "\n",
    "        filename = 'finalized_model.sav'\n",
    "        ada_load = pickle.load(open(filename, 'rb'))\n",
    "\n",
    "        X = np.array(input_pred)\n",
    "        preds = ada_load.predict_proba(X)\n",
    "        preds_singular = ada_load.predict(X)\n",
    "\n",
    "        return preds_singular[0]"
   ]
  }
 ],
 "metadata": {
  "kernelspec": {
   "display_name": "Python 3",
   "language": "python",
   "name": "python3"
  },
  "language_info": {
   "codemirror_mode": {
    "name": "ipython",
    "version": 3
   },
   "file_extension": ".py",
   "mimetype": "text/x-python",
   "name": "python",
   "nbconvert_exporter": "python",
   "pygments_lexer": "ipython3",
   "version": "3.8.3"
  }
 },
 "nbformat": 4,
 "nbformat_minor": 4
}
